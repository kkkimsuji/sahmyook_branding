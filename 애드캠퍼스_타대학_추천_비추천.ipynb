{
  "nbformat": 4,
  "nbformat_minor": 0,
  "metadata": {
    "colab": {
      "provenance": []
    },
    "kernelspec": {
      "name": "python3",
      "display_name": "Python 3"
    },
    "language_info": {
      "name": "python"
    }
  },
  "cells": [
    {
      "cell_type": "code",
      "source": [
        "import matplotlib.pyplot as plt"
      ],
      "metadata": {
        "id": "BlLPT77NP8xs"
      },
      "execution_count": null,
      "outputs": []
    },
    {
      "cell_type": "markdown",
      "source": [
        "### 가천대 비율(글로벌)\n",
        "- 전체 284개\n",
        "- 추천 204개 (71.83%)\n",
        "- 비추천 80개 (28.17%)"
      ],
      "metadata": {
        "id": "AQwN0He1LHel"
      }
    },
    {
      "cell_type": "code",
      "execution_count": null,
      "metadata": {
        "id": "_VrXKFBIItl1"
      },
      "outputs": [],
      "source": [
        "ga = '''추천 비추천 비추천 비추천 비추천 비추천 비추천 추천 추천 비추천 비추천 추천 비추천 비추천 비추천 추천 비추천 추천 비추천 비추천 비추천 추천 추천 비추천 비추천 추천 비추천 비추천 비추천 비추천 비추천\n",
        "추천 비추천 비추천 비추천 추천 추천 추천 비추천 추천 추천 추천 추천 추천 추천 추천 비추천 비추천 추천 추천 추천 추천 추천 비추천 추천 비추천 비추천 추천 추천 추천 추천 추천 추천 비추천 추천 추천 추천\n",
        "추천 추천 추천 비추천 추천 비추천 추천 추천 비추천 추천 추천 비추천 추천 추천 추천 추천 추천 추천 비추천 추천 비추천 추천 비추천 추천 추천 비추천 추천 추천 추천 추천 추천 추천 추천 비추천 비추천 비추천 비추천 추천 비추천\n",
        "비추천 비추천 비추천 추천 추천 비추천 비추천 비추천 비추천 비추천 추천 추천 비추천 비추천 비추천 추천 추천 추천 추천 추천 추천 비추천 추천 추천 추천 비추천 비추천 비추천 비추천 비추천 비추천 추천 비추천\n",
        "비추천 추천 추천 비추천 비추천 추천 추천 추천 추천 비추천 비추천 추천 추천 추천 비추천 비추천 추천 비추천 추천 추천 추천 비추천 비추천 추천 비추천 추천 추천 비추천 추천 추천 추천 추천 추천 추천 추천 추천 추천 추천 비추천\n",
        "추천 추천 추천 추천 비추천 추천 추천 추천 추천 추천 추천 추천 추천 추천 추천 추천 추천 추천 추천 추천 추천 추천 추천 추천 비추천 비추천'''"
      ]
    },
    {
      "cell_type": "code",
      "source": [
        "a = ga.count('비추천')\n",
        "b = ga.count('추천')\n",
        "print(a)\n",
        "print(b)\n",
        "print(a+b)"
      ],
      "metadata": {
        "colab": {
          "base_uri": "https://localhost:8080/"
        },
        "id": "n8eJvl15KmEu",
        "outputId": "06962240-60de-42d6-c176-03cc765003e6"
      },
      "execution_count": null,
      "outputs": [
        {
          "output_type": "stream",
          "name": "stdout",
          "text": [
            "80\n",
            "204\n",
            "284\n"
          ]
        }
      ]
    },
    {
      "cell_type": "code",
      "source": [
        "ratio = [204, 80]\n",
        "labels = ['2', '3']\n",
        "\n",
        "plt.pie(ratio, labels=labels, autopct='%.1f%%')"
      ],
      "metadata": {
        "colab": {
          "base_uri": "https://localhost:8080/",
          "height": 515
        },
        "id": "wYBKxem2PzE1",
        "outputId": "5a808575-1624-407c-817b-fcf3889a72cb"
      },
      "execution_count": null,
      "outputs": [
        {
          "output_type": "execute_result",
          "data": {
            "text/plain": [
              "([<matplotlib.patches.Wedge at 0x7ff15d1939d0>,\n",
              "  <matplotlib.patches.Wedge at 0x7ff15d193910>],\n",
              " [Text(-0.6966562372360107, 0.8512755647380955, '2'),\n",
              "  Text(0.6966563169381775, -0.851275499512428, '3')],\n",
              " [Text(-0.3799943112196421, 0.4643321262207793, '71.8%'),\n",
              "  Text(0.3799943546935513, -0.46433209064314246, '28.2%')])"
            ]
          },
          "metadata": {},
          "execution_count": 14
        },
        {
          "output_type": "display_data",
          "data": {
            "text/plain": [
              "<Figure size 640x480 with 1 Axes>"
            ],
            "image/png": "[encoded data removed]"
          },
          "metadata": {}
        }
      ]
    },
    {
      "cell_type": "markdown",
      "source": [
        "### 가천대(메디컬)\n",
        "- 전체 47개\n",
        "- 추천 19개 (40.43%)\n",
        "- 비추천 28개 (59.57%)"
      ],
      "metadata": {
        "id": "bTIKXxeXN-nY"
      }
    },
    {
      "cell_type": "code",
      "source": [
        "ga_me = '3 3 3 3 3 3 3 3 3 3 3 3 3 3 3 2 3 3 3 3 2 2 2 2 2 2 2 3 2 3 3 3 2 2 2 2 3 3 2 2 2 2 3 2 3 3 2'"
      ],
      "metadata": {
        "id": "RmLTw0ioODSS"
      },
      "execution_count": null,
      "outputs": []
    },
    {
      "cell_type": "code",
      "source": [
        "g = ga_me.count('2')\n",
        "h = ga_me.count('3')\n",
        "print(g)\n",
        "print(h)\n",
        "print(g+h)"
      ],
      "metadata": {
        "colab": {
          "base_uri": "https://localhost:8080/"
        },
        "id": "DC3Ze7X9OcOf",
        "outputId": "ad62c6da-e703-4f24-8687-7c110221585b"
      },
      "execution_count": null,
      "outputs": [
        {
          "output_type": "stream",
          "name": "stdout",
          "text": [
            "19\n",
            "28\n",
            "47\n"
          ]
        }
      ]
    },
    {
      "cell_type": "code",
      "source": [
        "ratio = [19, 28]\n",
        "labels = ['2', '3']\n",
        "\n",
        "plt.pie(ratio, labels=labels, autopct='%.1f%%')"
      ],
      "metadata": {
        "colab": {
          "base_uri": "https://localhost:8080/",
          "height": 515
        },
        "id": "X2-58Zr1QT2l",
        "outputId": "a27054c2-ee00-4bda-a42d-200549e4d56d"
      },
      "execution_count": null,
      "outputs": [
        {
          "output_type": "execute_result",
          "data": {
            "text/plain": [
              "([<matplotlib.patches.Wedge at 0x7ff15d164490>,\n",
              "  <matplotlib.patches.Wedge at 0x7ff15d1643a0>],\n",
              " [Text(0.32590310130231726, 1.05061275861353, '2'),\n",
              "  Text(-0.3259031013023172, -1.05061275861353, '3')],\n",
              " [Text(0.17776532798308212, 0.5730615046982891, '40.4%'),\n",
              "  Text(-0.1777653279830821, -0.5730615046982891, '59.6%')])"
            ]
          },
          "metadata": {},
          "execution_count": 15
        },
        {
          "output_type": "display_data",
          "data": {
            "text/plain": [
              "<Figure size 640x480 with 1 Axes>"
            ],
            "image/png": "[encoded data removed]"
          },
          "metadata": {}
        }
      ]
    },
    {
      "cell_type": "markdown",
      "source": [
        "### 가천대(글로벌+메디컬)\n",
        "- 전체 331개\n",
        "- 추천 223개 (67.37%)\n",
        "- 비추천 108개 (32.63%)"
      ],
      "metadata": {
        "id": "NI27nIbgO0Dy"
      }
    },
    {
      "cell_type": "code",
      "source": [
        "ratio = [223, 108]\n",
        "labels = ['2', '3']\n",
        "\n",
        "plt.pie(ratio, labels=labels, autopct='%.1f%%')"
      ],
      "metadata": {
        "colab": {
          "base_uri": "https://localhost:8080/",
          "height": 515
        },
        "id": "hub_VHxVQaCN",
        "outputId": "55308a7c-fbd9-49ed-80ad-7caab9e8ebc6"
      },
      "execution_count": null,
      "outputs": [
        {
          "output_type": "execute_result",
          "data": {
            "text/plain": [
              "([<matplotlib.patches.Wedge at 0x7ff15d13d040>,\n",
              "  <matplotlib.patches.Wedge at 0x7ff15d12cf10>],\n",
              " [Text(-0.5709604584666232, 0.9402149514167405, '2'),\n",
              "  Text(0.570960458466623, -0.9402149514167406, '3')],\n",
              " [Text(-0.3114329773454308, 0.5128445189545856, '67.4%'),\n",
              "  Text(0.31143297734543074, -0.5128445189545857, '32.6%')])"
            ]
          },
          "metadata": {},
          "execution_count": 16
        },
        {
          "output_type": "display_data",
          "data": {
            "text/plain": [
              "<Figure size 640x480 with 1 Axes>"
            ],
            "image/png": "[encoded data removed]"
          },
          "metadata": {}
        }
      ]
    },
    {
      "cell_type": "markdown",
      "source": [
        "### 수원대\n",
        "- 전체 148개\n",
        "- 추천 93개 (62.84%)\n",
        "- 비추천 55개 (37.16%)"
      ],
      "metadata": {
        "id": "QDKAJ9yZLuGw"
      }
    },
    {
      "cell_type": "code",
      "source": [
        "su = '2 2 3 2 3 2 3 3 3 3 3 3 3 3 3 2 3 2 2 3 3 3 3 3 2 3 2 3 2 3 3 2 2 3 2 2 2 2 2 2 3 2 2 2 2 2 2 3 2 3 2 3 2 2 2 2 2 2 3 2 3 3 2 2 2 2 2 2 2 3 2 2 2 2 2 2 2 2 2 2 2 2 2 2 2 2 2 2 2 3 2 3 2 3 3 2 3 3 2 2 3 3 2 2 3 2 2 3 3 3 2 3 2 3 2 3 2 3 2 2 3 2 2 2 2 2 3 2 3 2 3 2 3 3 2 3 3 3 2 2 2 2 2 2 2 2 2 2'"
      ],
      "metadata": {
        "id": "kqp0DEpaKsDf"
      },
      "execution_count": null,
      "outputs": []
    },
    {
      "cell_type": "code",
      "source": [
        "c = su.count('2')\n",
        "d = su.count('3')\n",
        "print(c)\n",
        "print(d)\n",
        "print(c+d)"
      ],
      "metadata": {
        "colab": {
          "base_uri": "https://localhost:8080/"
        },
        "id": "-5jjfremMgok",
        "outputId": "5a467151-96f8-43ab-e8e1-ddf3a5e7e9e7"
      },
      "execution_count": null,
      "outputs": [
        {
          "output_type": "stream",
          "name": "stdout",
          "text": [
            "93\n",
            "55\n",
            "148\n"
          ]
        }
      ]
    },
    {
      "cell_type": "code",
      "source": [
        "ratio = [93, 55]\n",
        "labels = ['2', '3']\n",
        "\n",
        "plt.pie(ratio, labels=labels, autopct='%.1f%%')"
      ],
      "metadata": {
        "colab": {
          "base_uri": "https://localhost:8080/",
          "height": 515
        },
        "id": "Z21zKSsXQfp7",
        "outputId": "bc488fbb-71d9-441e-eea0-54ad9d563b38"
      },
      "execution_count": null,
      "outputs": [
        {
          "output_type": "execute_result",
          "data": {
            "text/plain": [
              "([<matplotlib.patches.Wedge at 0x7ff15d082be0>,\n",
              "  <matplotlib.patches.Wedge at 0x7ff15d082af0>],\n",
              " [Text(-0.43171404845905004, 1.0117425464826004, '2'),\n",
              "  Text(0.43171404845905015, -1.0117425464826004, '3')],\n",
              " [Text(-0.23548039006857271, 0.5518595708086911, '62.8%'),\n",
              "  Text(0.23548039006857277, -0.5518595708086911, '37.2%')])"
            ]
          },
          "metadata": {},
          "execution_count": 17
        },
        {
          "output_type": "display_data",
          "data": {
            "text/plain": [
              "<Figure size 640x480 with 1 Axes>"
            ],
            "image/png": "[encoded data removed]"
          },
          "metadata": {}
        }
      ]
    },
    {
      "cell_type": "markdown",
      "source": [
        "# 한성대\n",
        "- 전체 60개\n",
        "- 추천 40개 (66.67%)\n",
        "- 비추천 20개 (33.33%)"
      ],
      "metadata": {
        "id": "ZQd3-1mQM-_q"
      }
    },
    {
      "cell_type": "code",
      "source": [
        "han = '3 3 2 3 3 3 2 2 2 2 3 3 2 2 2 3 2 2 2 2 2 2 2 2 2 2 2 3 2 2 2 3 2 3 2 2 3 2 2 2 3 2 2 2 2 3 2 2 2 2 2 3 2 3 2 3 3 3 3 2'"
      ],
      "metadata": {
        "id": "QbKcSK7tMl0l"
      },
      "execution_count": null,
      "outputs": []
    },
    {
      "cell_type": "code",
      "source": [
        "e = han.count('2')\n",
        "f = han.count('3')\n",
        "print(e)\n",
        "print(f)\n",
        "print(e+f)"
      ],
      "metadata": {
        "colab": {
          "base_uri": "https://localhost:8080/"
        },
        "id": "J1cKrf46NfN2",
        "outputId": "86c3805d-0666-4e38-a89a-224172831919"
      },
      "execution_count": null,
      "outputs": [
        {
          "output_type": "stream",
          "name": "stdout",
          "text": [
            "40\n",
            "20\n",
            "60\n"
          ]
        }
      ]
    },
    {
      "cell_type": "code",
      "source": [
        "ratio = [40, 20]\n",
        "labels = ['2', '3']\n",
        "\n",
        "plt.pie(ratio, labels=labels, autopct='%.1f%%')"
      ],
      "metadata": {
        "colab": {
          "base_uri": "https://localhost:8080/",
          "height": 515
        },
        "id": "GC9C4B7JNjlT",
        "outputId": "8a6711d0-93d0-4183-a1e5-43f428072269"
      },
      "execution_count": null,
      "outputs": [
        {
          "output_type": "execute_result",
          "data": {
            "text/plain": [
              "([<matplotlib.patches.Wedge at 0x7ff15d0568e0>,\n",
              "  <matplotlib.patches.Wedge at 0x7ff15d0567f0>],\n",
              " [Text(-0.5500000594609755, 0.9526279098330699, '2'),\n",
              "  Text(0.5500001486524352, -0.9526278583383436, '3')],\n",
              " [Text(-0.30000003243325934, 0.5196152235453108, '66.7%'),\n",
              "  Text(0.30000008108314646, -0.5196151954572783, '33.3%')])"
            ]
          },
          "metadata": {},
          "execution_count": 18
        },
        {
          "output_type": "display_data",
          "data": {
            "text/plain": [
              "<Figure size 640x480 with 1 Axes>"
            ],
            "image/png": "[encoded data removed]"
          },
          "metadata": {}
        }
      ]
    },
    {
      "cell_type": "code",
      "source": [],
      "metadata": {
        "id": "kTSN6ka9Qmii"
      },
      "execution_count": null,
      "outputs": []
    }
  ]
}