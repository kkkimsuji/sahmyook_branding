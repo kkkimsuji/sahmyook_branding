{
  "nbformat": 4,
  "nbformat_minor": 0,
  "metadata": {
    "colab": {
      "private_outputs": true,
      "provenance": []
    },
    "kernelspec": {
      "name": "python3",
      "display_name": "Python 3"
    },
    "language_info": {
      "name": "python"
    }
  },
  "cells": [
    {
      "cell_type": "code",
      "execution_count": null,
      "metadata": {
        "id": "iRNrPqWWI4EC"
      },
      "outputs": [],
      "source": [
        "!pip install konlpy"
      ]
    },
    {
      "cell_type": "code",
      "source": [
        "!pip install -U numpy"
      ],
      "metadata": {
        "id": "__8QvaZdMMWG"
      },
      "execution_count": null,
      "outputs": []
    },
    {
      "cell_type": "code",
      "source": [
        "!pip install -U pyLDAvis"
      ],
      "metadata": {
        "id": "awArNiBWJONl"
      },
      "execution_count": null,
      "outputs": []
    },
    {
      "cell_type": "code",
      "source": [
        "import pandas as pd"
      ],
      "metadata": {
        "id": "IeBC5U5_JivD"
      },
      "execution_count": null,
      "outputs": []
    },
    {
      "cell_type": "code",
      "source": [
        "df = pd.read_csv('대학백과_삼육대_리뷰.csv')\n",
        "df.head()"
      ],
      "metadata": {
        "id": "JDC_F1KEJnLz"
      },
      "execution_count": null,
      "outputs": []
    },
    {
      "cell_type": "code",
      "source": [
        "df.drop(['Unnamed: 0'], axis=1, inplace=True)\n",
        "df.head()"
      ],
      "metadata": {
        "id": "YDC2jfLZillx"
      },
      "execution_count": null,
      "outputs": []
    },
    {
      "cell_type": "code",
      "source": [
        "df.rename(columns = {'0' : '평가'}, inplace = True)"
      ],
      "metadata": {
        "id": "MLkrt1ALLex8"
      },
      "execution_count": null,
      "outputs": []
    },
    {
      "cell_type": "code",
      "source": [
        "df.head()"
      ],
      "metadata": {
        "id": "9nlATSqCLrEc"
      },
      "execution_count": null,
      "outputs": []
    },
    {
      "cell_type": "code",
      "source": [
        "from konlpy.tag import Okt\n",
        "import re"
      ],
      "metadata": {
        "id": "qDPD-KMPJ5Wr"
      },
      "execution_count": null,
      "outputs": []
    },
    {
      "cell_type": "code",
      "source": [
        "def tokenize_text(text):\n",
        "    text = re.sub(r\"[^ㄱ-ㅣ가-힣\\s]\",\"\",str(text))\n",
        "    okt = Okt()\n",
        "    okt_morphs = okt.pos(text)\n",
        "\n",
        "    words = []\n",
        "    for word,pos in okt_morphs: \n",
        "        if pos == 'Adjective' or pos=='Verb' or pos=='Noun':\n",
        "            words.append(word)\n",
        "\n",
        "    word_str =  ' '.join(words)  \n",
        "    return word_str"
      ],
      "metadata": {
        "id": "NdN77HhbLP2i"
      },
      "execution_count": null,
      "outputs": []
    },
    {
      "cell_type": "code",
      "source": [
        "from tqdm import tqdm\n",
        "token_list = []\n",
        "for temp in tqdm(df['평가']) :\n",
        "  token_list.append(tokenize_text(temp))\n",
        "token_list"
      ],
      "metadata": {
        "id": "gyrL-xmQM9YL"
      },
      "execution_count": null,
      "outputs": []
    },
    {
      "cell_type": "code",
      "source": [
        "drop_corpus = []\n",
        "\n",
        "for index in range(len(token_list)):\n",
        "    corpus = token_list[index]\n",
        "    if len(set(corpus.split())) < 3:\n",
        "        drop_corpus.append(corpus)\n",
        "\n",
        "for corpus in drop_corpus:\n",
        "    token_list.remove(corpus)\n",
        "\n",
        "token_list"
      ],
      "metadata": {
        "id": "HL-F-cEQND2S"
      },
      "execution_count": null,
      "outputs": []
    },
    {
      "cell_type": "code",
      "source": [
        "!pip install --upgrade pip\n",
        "!pip install --upgrade numpy"
      ],
      "metadata": {
        "id": "SQluM0K9MT_k"
      },
      "execution_count": null,
      "outputs": []
    },
    {
      "cell_type": "code",
      "source": [
        "from sklearn.feature_extraction.text import CountVectorizer\n",
        "from sklearn.decomposition import LatentDirichletAllocation"
      ],
      "metadata": {
        "id": "6yiLKFfrRRNK"
      },
      "execution_count": null,
      "outputs": []
    },
    {
      "cell_type": "code",
      "source": [
        "count_vec = CountVectorizer(max_df=0.2,max_features=1000,min_df=3,ngram_range=(1,2))\n",
        "feat_vect = count_vec.fit_transform(token_list)\n",
        "print(feat_vect.shape)\n",
        "print(count_vec.vocabulary_)"
      ],
      "metadata": {
        "id": "VUsO2gwPU9sD"
      },
      "execution_count": null,
      "outputs": []
    },
    {
      "cell_type": "code",
      "source": [
        "feature_names = count_vec.get_feature_names_out()"
      ],
      "metadata": {
        "id": "nY3Dje-kXpd_"
      },
      "execution_count": null,
      "outputs": []
    },
    {
      "cell_type": "code",
      "source": [
        "lda = LatentDirichletAllocation(n_components=5,max_iter=20)\n",
        "lda.fit(feat_vect)"
      ],
      "metadata": {
        "id": "gSc919FwV2F7"
      },
      "execution_count": null,
      "outputs": []
    },
    {
      "cell_type": "code",
      "source": [
        "lda.components_"
      ],
      "metadata": {
        "id": "na2jda2XYKeX"
      },
      "execution_count": null,
      "outputs": []
    },
    {
      "cell_type": "code",
      "source": [
        "def display_topics(model,feature_names,num_top_words):\n",
        "    for topic_index, topic in enumerate(model.components_):\n",
        "        print('토픽',topic_index)\n",
        "        topic_word_indexes = topic.argsort()[::-1]\n",
        "        top_index = topic_word_indexes[:num_top_words]\n",
        "       \n",
        "        f_name_list = []\n",
        "        for temp in top_index:\n",
        "            f_name_list.append(feature_names[temp])\n",
        "\n",
        "        feature_concat = ' '.join(f_name_list)\n",
        "        print(feature_concat)\n",
        "    "
      ],
      "metadata": {
        "id": "iVdt3Q2MWgdh"
      },
      "execution_count": null,
      "outputs": []
    },
    {
      "cell_type": "code",
      "source": [
        "display_topics(lda,feature_names,15)"
      ],
      "metadata": {
        "id": "2aN2vIKUZFDX"
      },
      "execution_count": null,
      "outputs": []
    },
    {
      "cell_type": "code",
      "source": [
        "import pyLDAvis.lda_model\n",
        "pyLDAvis.enable_notebook()\n",
        "vis = pyLDAvis.lda_model.prepare(lda,feat_vect,count_vec)\n",
        "pyLDAvis.display(vis)"
      ],
      "metadata": {
        "id": "pmp-HCUgZKLm"
      },
      "execution_count": null,
      "outputs": []
    },
    {
      "cell_type": "code",
      "source": [
        "sent_topic = lda.transform(feat_vect)\n",
        "print(sent_topic[0])"
      ],
      "metadata": {
        "id": "L9MbFvkOeHg0"
      },
      "execution_count": null,
      "outputs": []
    },
    {
      "cell_type": "code",
      "source": [
        "doc_per_topic_list = []\n",
        "for n in range(sent_topic.shape[0]):\n",
        "    topic_most_pr = sent_topic[n].argmax()\n",
        "    topic_pr = sent_topic[n].max()\n",
        "    doc_per_topic_list.append([n,topic_most_pr,topic_pr])\n",
        "\n",
        "doc_topic_df = pd.DataFrame(doc_per_topic_list,columns=['no','토픽번호','확률'])\n",
        "doc_topic_df\n",
        "\n"
      ],
      "metadata": {
        "id": "GTa1Jzt8hQAE"
      },
      "execution_count": null,
      "outputs": []
    },
    {
      "cell_type": "code",
      "source": [
        "for topic in range(len(doc_topic_df['토픽번호'].unique())):\n",
        "    print('토픽',topic)\n",
        "    top_topic = doc_topic_df[ doc_topic_df['토픽번호']==topic].sort_values(by='확률',ascending=False)\n",
        "    print(df['평가'].iloc[ top_topic['no'].iloc[0]])\n",
        "    print(df['평가'].iloc[ top_topic['no'].iloc[1]])\n",
        "    print(df['평가'].iloc[ top_topic['no'].iloc[2]])"
      ],
      "metadata": {
        "id": "I8p6GKKIiKRk"
      },
      "execution_count": null,
      "outputs": []
    },
    {
      "cell_type": "code",
      "source": [],
      "metadata": {
        "id": "1C4DZW29pMqd"
      },
      "execution_count": null,
      "outputs": []
    }
  ]
}